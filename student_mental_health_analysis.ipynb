{
  "cells": [
    {
      "cell_type": "markdown",
      "metadata": {
        "id": "view-in-github",
        "colab_type": "text"
      },
      "source": [
        "<a href=\"https://colab.research.google.com/github/vasanth-vara/MLproject/blob/main/student_mental_health_analysis.ipynb\" target=\"_parent\"><img src=\"https://colab.research.google.com/assets/colab-badge.svg\" alt=\"Open In Colab\"/></a>"
      ]
    },
    {
      "cell_type": "markdown",
      "id": "97db05c1",
      "metadata": {
        "papermill": {
          "duration": 0.008681,
          "end_time": "2022-06-30T02:39:28.011025",
          "exception": false,
          "start_time": "2022-06-30T02:39:28.002344",
          "status": "completed"
        },
        "tags": [],
        "id": "97db05c1"
      },
      "source": [
        "# Student Mental health analysis"
      ]
    },
    {
      "cell_type": "markdown",
      "id": "88c12924",
      "metadata": {
        "papermill": {
          "duration": 0.008656,
          "end_time": "2022-06-30T02:39:28.029265",
          "exception": false,
          "start_time": "2022-06-30T02:39:28.020609",
          "status": "completed"
        },
        "tags": [],
        "id": "88c12924"
      },
      "source": [
        "### import packages"
      ]
    },
    {
      "cell_type": "code",
      "execution_count": 61,
      "id": "23f6ea48",
      "metadata": {
        "execution": {
          "iopub.execute_input": "2022-06-30T02:39:28.049123Z",
          "iopub.status.busy": "2022-06-30T02:39:28.048662Z",
          "iopub.status.idle": "2022-06-30T02:39:30.006163Z",
          "shell.execute_reply": "2022-06-30T02:39:30.005279Z"
        },
        "papermill": {
          "duration": 1.97065,
          "end_time": "2022-06-30T02:39:30.008757",
          "exception": false,
          "start_time": "2022-06-30T02:39:28.038107",
          "status": "completed"
        },
        "tags": [],
        "id": "23f6ea48"
      },
      "outputs": [],
      "source": [
        "import numpy as np\n",
        "import pandas as pd\n",
        "import seaborn as sns\n",
        "import matplotlib.pyplot as plt \n",
        "import scipy.stats\n",
        "from math import sqrt\n",
        "import statsmodels.api as sm\n",
        "import os\n",
        "from sklearn.model_selection import train_test_split\n",
        "from sklearn.neighbors import KNeighborsClassifier\n",
        "from sklearn.metrics import accuracy_score\n",
        "from sklearn.linear_model import LogisticRegression\n"
      ]
    },
    {
      "cell_type": "markdown",
      "id": "71b726b8",
      "metadata": {
        "papermill": {
          "duration": 0.008743,
          "end_time": "2022-06-30T02:39:30.026666",
          "exception": false,
          "start_time": "2022-06-30T02:39:30.017923",
          "status": "completed"
        },
        "tags": [],
        "id": "71b726b8"
      },
      "source": [
        "## read dataset"
      ]
    },
    {
      "cell_type": "code",
      "execution_count": 62,
      "id": "e2517d75",
      "metadata": {
        "execution": {
          "iopub.execute_input": "2022-06-30T02:39:30.046973Z",
          "iopub.status.busy": "2022-06-30T02:39:30.046017Z",
          "iopub.status.idle": "2022-06-30T02:39:30.063947Z",
          "shell.execute_reply": "2022-06-30T02:39:30.062851Z"
        },
        "papermill": {
          "duration": 0.030751,
          "end_time": "2022-06-30T02:39:30.066474",
          "exception": false,
          "start_time": "2022-06-30T02:39:30.035723",
          "status": "completed"
        },
        "tags": [],
        "id": "e2517d75"
      },
      "outputs": [],
      "source": [
        "df = pd.read_csv('/content/Student Mental health.csv')"
      ]
    },
    {
      "cell_type": "code",
      "execution_count": 63,
      "id": "70129098",
      "metadata": {
        "papermill": {
          "duration": 0.009194,
          "end_time": "2022-06-30T02:39:30.139388",
          "exception": false,
          "start_time": "2022-06-30T02:39:30.130194",
          "status": "completed"
        },
        "tags": [],
        "id": "70129098",
        "colab": {
          "base_uri": "https://localhost:8080/",
          "height": 713
        },
        "outputId": "a78caf24-18c5-40a8-ca4d-13b8fccb3c98"
      },
      "outputs": [
        {
          "output_type": "execute_result",
          "data": {
            "text/plain": [
              "     Choose your gender   Age What is your course? Your current year of Study  \\\n",
              "0                     0  18.0          Engineering                     year 1   \n",
              "1                     1  21.0            Education                     year 2   \n",
              "2                     1  19.0               Doctor                     Year 1   \n",
              "3                     0  22.0                 Laws                     year 3   \n",
              "4                     1  23.0         Mathemathics                     year 4   \n",
              "..                  ...   ...                  ...                        ...   \n",
              "96                    0  21.0                  BCS                     year 1   \n",
              "97                    1  18.0          Engineering                     Year 2   \n",
              "98                    0  19.0             Nursing                      Year 3   \n",
              "99                    0  23.0     Pendidikan Islam                     year 4   \n",
              "100                   1  20.0   Biomedical science                     Year 2   \n",
              "\n",
              "    What is your CGPA? Marital status Do you have Depression?  \\\n",
              "0          3.00 - 3.49             No                     Yes   \n",
              "1          3.00 - 3.49             No                      No   \n",
              "2          3.00 - 3.49             No                     Yes   \n",
              "3          3.00 - 3.49            Yes                     Yes   \n",
              "4          3.00 - 3.49             No                      No   \n",
              "..                 ...            ...                     ...   \n",
              "96         3.50 - 4.00             No                      No   \n",
              "97         3.00 - 3.49             No                     Yes   \n",
              "98         3.50 - 4.00            Yes                     Yes   \n",
              "99         3.50 - 4.00             No                      No   \n",
              "100        3.00 - 3.49             No                      No   \n",
              "\n",
              "    Do you have Anxiety? Do you have Panic attack?  Output  \n",
              "0                     No                       Yes       0  \n",
              "1                    Yes                        No       0  \n",
              "2                    Yes                       Yes       1  \n",
              "3                     No                        No       0  \n",
              "4                     No                        No       0  \n",
              "..                   ...                       ...     ...  \n",
              "96                   Yes                        No       0  \n",
              "97                   Yes                        No       1  \n",
              "98                    No                       Yes       1  \n",
              "99                    No                        No       0  \n",
              "100                   No                        No       0  \n",
              "\n",
              "[101 rows x 10 columns]"
            ],
            "text/html": [
              "\n",
              "  <div id=\"df-9e14775c-c39f-491e-b785-ea11384adceb\">\n",
              "    <div class=\"colab-df-container\">\n",
              "      <div>\n",
              "<style scoped>\n",
              "    .dataframe tbody tr th:only-of-type {\n",
              "        vertical-align: middle;\n",
              "    }\n",
              "\n",
              "    .dataframe tbody tr th {\n",
              "        vertical-align: top;\n",
              "    }\n",
              "\n",
              "    .dataframe thead th {\n",
              "        text-align: right;\n",
              "    }\n",
              "</style>\n",
              "<table border=\"1\" class=\"dataframe\">\n",
              "  <thead>\n",
              "    <tr style=\"text-align: right;\">\n",
              "      <th></th>\n",
              "      <th>Choose your gender</th>\n",
              "      <th>Age</th>\n",
              "      <th>What is your course?</th>\n",
              "      <th>Your current year of Study</th>\n",
              "      <th>What is your CGPA?</th>\n",
              "      <th>Marital status</th>\n",
              "      <th>Do you have Depression?</th>\n",
              "      <th>Do you have Anxiety?</th>\n",
              "      <th>Do you have Panic attack?</th>\n",
              "      <th>Output</th>\n",
              "    </tr>\n",
              "  </thead>\n",
              "  <tbody>\n",
              "    <tr>\n",
              "      <th>0</th>\n",
              "      <td>0</td>\n",
              "      <td>18.0</td>\n",
              "      <td>Engineering</td>\n",
              "      <td>year 1</td>\n",
              "      <td>3.00 - 3.49</td>\n",
              "      <td>No</td>\n",
              "      <td>Yes</td>\n",
              "      <td>No</td>\n",
              "      <td>Yes</td>\n",
              "      <td>0</td>\n",
              "    </tr>\n",
              "    <tr>\n",
              "      <th>1</th>\n",
              "      <td>1</td>\n",
              "      <td>21.0</td>\n",
              "      <td>Education</td>\n",
              "      <td>year 2</td>\n",
              "      <td>3.00 - 3.49</td>\n",
              "      <td>No</td>\n",
              "      <td>No</td>\n",
              "      <td>Yes</td>\n",
              "      <td>No</td>\n",
              "      <td>0</td>\n",
              "    </tr>\n",
              "    <tr>\n",
              "      <th>2</th>\n",
              "      <td>1</td>\n",
              "      <td>19.0</td>\n",
              "      <td>Doctor</td>\n",
              "      <td>Year 1</td>\n",
              "      <td>3.00 - 3.49</td>\n",
              "      <td>No</td>\n",
              "      <td>Yes</td>\n",
              "      <td>Yes</td>\n",
              "      <td>Yes</td>\n",
              "      <td>1</td>\n",
              "    </tr>\n",
              "    <tr>\n",
              "      <th>3</th>\n",
              "      <td>0</td>\n",
              "      <td>22.0</td>\n",
              "      <td>Laws</td>\n",
              "      <td>year 3</td>\n",
              "      <td>3.00 - 3.49</td>\n",
              "      <td>Yes</td>\n",
              "      <td>Yes</td>\n",
              "      <td>No</td>\n",
              "      <td>No</td>\n",
              "      <td>0</td>\n",
              "    </tr>\n",
              "    <tr>\n",
              "      <th>4</th>\n",
              "      <td>1</td>\n",
              "      <td>23.0</td>\n",
              "      <td>Mathemathics</td>\n",
              "      <td>year 4</td>\n",
              "      <td>3.00 - 3.49</td>\n",
              "      <td>No</td>\n",
              "      <td>No</td>\n",
              "      <td>No</td>\n",
              "      <td>No</td>\n",
              "      <td>0</td>\n",
              "    </tr>\n",
              "    <tr>\n",
              "      <th>...</th>\n",
              "      <td>...</td>\n",
              "      <td>...</td>\n",
              "      <td>...</td>\n",
              "      <td>...</td>\n",
              "      <td>...</td>\n",
              "      <td>...</td>\n",
              "      <td>...</td>\n",
              "      <td>...</td>\n",
              "      <td>...</td>\n",
              "      <td>...</td>\n",
              "    </tr>\n",
              "    <tr>\n",
              "      <th>96</th>\n",
              "      <td>0</td>\n",
              "      <td>21.0</td>\n",
              "      <td>BCS</td>\n",
              "      <td>year 1</td>\n",
              "      <td>3.50 - 4.00</td>\n",
              "      <td>No</td>\n",
              "      <td>No</td>\n",
              "      <td>Yes</td>\n",
              "      <td>No</td>\n",
              "      <td>0</td>\n",
              "    </tr>\n",
              "    <tr>\n",
              "      <th>97</th>\n",
              "      <td>1</td>\n",
              "      <td>18.0</td>\n",
              "      <td>Engineering</td>\n",
              "      <td>Year 2</td>\n",
              "      <td>3.00 - 3.49</td>\n",
              "      <td>No</td>\n",
              "      <td>Yes</td>\n",
              "      <td>Yes</td>\n",
              "      <td>No</td>\n",
              "      <td>1</td>\n",
              "    </tr>\n",
              "    <tr>\n",
              "      <th>98</th>\n",
              "      <td>0</td>\n",
              "      <td>19.0</td>\n",
              "      <td>Nursing</td>\n",
              "      <td>Year 3</td>\n",
              "      <td>3.50 - 4.00</td>\n",
              "      <td>Yes</td>\n",
              "      <td>Yes</td>\n",
              "      <td>No</td>\n",
              "      <td>Yes</td>\n",
              "      <td>1</td>\n",
              "    </tr>\n",
              "    <tr>\n",
              "      <th>99</th>\n",
              "      <td>0</td>\n",
              "      <td>23.0</td>\n",
              "      <td>Pendidikan Islam</td>\n",
              "      <td>year 4</td>\n",
              "      <td>3.50 - 4.00</td>\n",
              "      <td>No</td>\n",
              "      <td>No</td>\n",
              "      <td>No</td>\n",
              "      <td>No</td>\n",
              "      <td>0</td>\n",
              "    </tr>\n",
              "    <tr>\n",
              "      <th>100</th>\n",
              "      <td>1</td>\n",
              "      <td>20.0</td>\n",
              "      <td>Biomedical science</td>\n",
              "      <td>Year 2</td>\n",
              "      <td>3.00 - 3.49</td>\n",
              "      <td>No</td>\n",
              "      <td>No</td>\n",
              "      <td>No</td>\n",
              "      <td>No</td>\n",
              "      <td>0</td>\n",
              "    </tr>\n",
              "  </tbody>\n",
              "</table>\n",
              "<p>101 rows × 10 columns</p>\n",
              "</div>\n",
              "      <button class=\"colab-df-convert\" onclick=\"convertToInteractive('df-9e14775c-c39f-491e-b785-ea11384adceb')\"\n",
              "              title=\"Convert this dataframe to an interactive table.\"\n",
              "              style=\"display:none;\">\n",
              "        \n",
              "  <svg xmlns=\"http://www.w3.org/2000/svg\" height=\"24px\"viewBox=\"0 0 24 24\"\n",
              "       width=\"24px\">\n",
              "    <path d=\"M0 0h24v24H0V0z\" fill=\"none\"/>\n",
              "    <path d=\"M18.56 5.44l.94 2.06.94-2.06 2.06-.94-2.06-.94-.94-2.06-.94 2.06-2.06.94zm-11 1L8.5 8.5l.94-2.06 2.06-.94-2.06-.94L8.5 2.5l-.94 2.06-2.06.94zm10 10l.94 2.06.94-2.06 2.06-.94-2.06-.94-.94-2.06-.94 2.06-2.06.94z\"/><path d=\"M17.41 7.96l-1.37-1.37c-.4-.4-.92-.59-1.43-.59-.52 0-1.04.2-1.43.59L10.3 9.45l-7.72 7.72c-.78.78-.78 2.05 0 2.83L4 21.41c.39.39.9.59 1.41.59.51 0 1.02-.2 1.41-.59l7.78-7.78 2.81-2.81c.8-.78.8-2.07 0-2.86zM5.41 20L4 18.59l7.72-7.72 1.47 1.35L5.41 20z\"/>\n",
              "  </svg>\n",
              "      </button>\n",
              "      \n",
              "  <style>\n",
              "    .colab-df-container {\n",
              "      display:flex;\n",
              "      flex-wrap:wrap;\n",
              "      gap: 12px;\n",
              "    }\n",
              "\n",
              "    .colab-df-convert {\n",
              "      background-color: #E8F0FE;\n",
              "      border: none;\n",
              "      border-radius: 50%;\n",
              "      cursor: pointer;\n",
              "      display: none;\n",
              "      fill: #1967D2;\n",
              "      height: 32px;\n",
              "      padding: 0 0 0 0;\n",
              "      width: 32px;\n",
              "    }\n",
              "\n",
              "    .colab-df-convert:hover {\n",
              "      background-color: #E2EBFA;\n",
              "      box-shadow: 0px 1px 2px rgba(60, 64, 67, 0.3), 0px 1px 3px 1px rgba(60, 64, 67, 0.15);\n",
              "      fill: #174EA6;\n",
              "    }\n",
              "\n",
              "    [theme=dark] .colab-df-convert {\n",
              "      background-color: #3B4455;\n",
              "      fill: #D2E3FC;\n",
              "    }\n",
              "\n",
              "    [theme=dark] .colab-df-convert:hover {\n",
              "      background-color: #434B5C;\n",
              "      box-shadow: 0px 1px 3px 1px rgba(0, 0, 0, 0.15);\n",
              "      filter: drop-shadow(0px 1px 2px rgba(0, 0, 0, 0.3));\n",
              "      fill: #FFFFFF;\n",
              "    }\n",
              "  </style>\n",
              "\n",
              "      <script>\n",
              "        const buttonEl =\n",
              "          document.querySelector('#df-9e14775c-c39f-491e-b785-ea11384adceb button.colab-df-convert');\n",
              "        buttonEl.style.display =\n",
              "          google.colab.kernel.accessAllowed ? 'block' : 'none';\n",
              "\n",
              "        async function convertToInteractive(key) {\n",
              "          const element = document.querySelector('#df-9e14775c-c39f-491e-b785-ea11384adceb');\n",
              "          const dataTable =\n",
              "            await google.colab.kernel.invokeFunction('convertToInteractive',\n",
              "                                                     [key], {});\n",
              "          if (!dataTable) return;\n",
              "\n",
              "          const docLinkHtml = 'Like what you see? Visit the ' +\n",
              "            '<a target=\"_blank\" href=https://colab.research.google.com/notebooks/data_table.ipynb>data table notebook</a>'\n",
              "            + ' to learn more about interactive tables.';\n",
              "          element.innerHTML = '';\n",
              "          dataTable['output_type'] = 'display_data';\n",
              "          await google.colab.output.renderOutput(dataTable, element);\n",
              "          const docLink = document.createElement('div');\n",
              "          docLink.innerHTML = docLinkHtml;\n",
              "          element.appendChild(docLink);\n",
              "        }\n",
              "      </script>\n",
              "    </div>\n",
              "  </div>\n",
              "  "
            ]
          },
          "metadata": {},
          "execution_count": 63
        }
      ],
      "source": [
        "df\n"
      ]
    },
    {
      "cell_type": "markdown",
      "id": "f81e90d3",
      "metadata": {
        "papermill": {
          "duration": 0.009056,
          "end_time": "2022-06-30T02:39:30.157823",
          "exception": false,
          "start_time": "2022-06-30T02:39:30.148767",
          "status": "completed"
        },
        "tags": [],
        "id": "f81e90d3"
      },
      "source": [
        "### Exploratory Data Analysis¶\n"
      ]
    },
    {
      "cell_type": "markdown",
      "id": "9f4a8fc7",
      "metadata": {
        "papermill": {
          "duration": 0.009072,
          "end_time": "2022-06-30T02:39:30.176483",
          "exception": false,
          "start_time": "2022-06-30T02:39:30.167411",
          "status": "completed"
        },
        "tags": [],
        "id": "9f4a8fc7"
      },
      "source": []
    },
    {
      "cell_type": "code",
      "execution_count": 64,
      "id": "7e31f1a5",
      "metadata": {
        "execution": {
          "iopub.execute_input": "2022-06-30T02:39:30.197811Z",
          "iopub.status.busy": "2022-06-30T02:39:30.197136Z",
          "iopub.status.idle": "2022-06-30T02:39:30.203319Z",
          "shell.execute_reply": "2022-06-30T02:39:30.202222Z"
        },
        "papermill": {
          "duration": 0.01974,
          "end_time": "2022-06-30T02:39:30.205634",
          "exception": false,
          "start_time": "2022-06-30T02:39:30.185894",
          "status": "completed"
        },
        "tags": [],
        "id": "7e31f1a5",
        "outputId": "f3ddb82c-1b96-4c13-9a61-d87d819ca2d4",
        "colab": {
          "base_uri": "https://localhost:8080/"
        }
      },
      "outputs": [
        {
          "output_type": "execute_result",
          "data": {
            "text/plain": [
              "(101, 10)"
            ]
          },
          "metadata": {},
          "execution_count": 64
        }
      ],
      "source": [
        "df.shape"
      ]
    },
    {
      "cell_type": "code",
      "execution_count": 65,
      "id": "47304e68",
      "metadata": {
        "execution": {
          "iopub.execute_input": "2022-06-30T02:39:30.261227Z",
          "iopub.status.busy": "2022-06-30T02:39:30.260462Z",
          "iopub.status.idle": "2022-06-30T02:39:30.282482Z",
          "shell.execute_reply": "2022-06-30T02:39:30.281644Z"
        },
        "papermill": {
          "duration": 0.035449,
          "end_time": "2022-06-30T02:39:30.284601",
          "exception": false,
          "start_time": "2022-06-30T02:39:30.249152",
          "status": "completed"
        },
        "tags": [],
        "id": "47304e68",
        "outputId": "8520a5aa-fbf0-4bc9-8608-d37702f30724",
        "colab": {
          "base_uri": "https://localhost:8080/",
          "height": 300
        }
      },
      "outputs": [
        {
          "output_type": "execute_result",
          "data": {
            "text/plain": [
              "       Choose your gender        Age      Output\n",
              "count          101.000000  100.00000  101.000000\n",
              "mean             0.257426   20.53000    0.267327\n",
              "std              0.439397    2.49628    0.444772\n",
              "min              0.000000   18.00000    0.000000\n",
              "25%              0.000000   18.00000    0.000000\n",
              "50%              0.000000   19.00000    0.000000\n",
              "75%              1.000000   23.00000    1.000000\n",
              "max              1.000000   24.00000    1.000000"
            ],
            "text/html": [
              "\n",
              "  <div id=\"df-bd1f8cbd-b99a-4908-b2c7-a9b503860675\">\n",
              "    <div class=\"colab-df-container\">\n",
              "      <div>\n",
              "<style scoped>\n",
              "    .dataframe tbody tr th:only-of-type {\n",
              "        vertical-align: middle;\n",
              "    }\n",
              "\n",
              "    .dataframe tbody tr th {\n",
              "        vertical-align: top;\n",
              "    }\n",
              "\n",
              "    .dataframe thead th {\n",
              "        text-align: right;\n",
              "    }\n",
              "</style>\n",
              "<table border=\"1\" class=\"dataframe\">\n",
              "  <thead>\n",
              "    <tr style=\"text-align: right;\">\n",
              "      <th></th>\n",
              "      <th>Choose your gender</th>\n",
              "      <th>Age</th>\n",
              "      <th>Output</th>\n",
              "    </tr>\n",
              "  </thead>\n",
              "  <tbody>\n",
              "    <tr>\n",
              "      <th>count</th>\n",
              "      <td>101.000000</td>\n",
              "      <td>100.00000</td>\n",
              "      <td>101.000000</td>\n",
              "    </tr>\n",
              "    <tr>\n",
              "      <th>mean</th>\n",
              "      <td>0.257426</td>\n",
              "      <td>20.53000</td>\n",
              "      <td>0.267327</td>\n",
              "    </tr>\n",
              "    <tr>\n",
              "      <th>std</th>\n",
              "      <td>0.439397</td>\n",
              "      <td>2.49628</td>\n",
              "      <td>0.444772</td>\n",
              "    </tr>\n",
              "    <tr>\n",
              "      <th>min</th>\n",
              "      <td>0.000000</td>\n",
              "      <td>18.00000</td>\n",
              "      <td>0.000000</td>\n",
              "    </tr>\n",
              "    <tr>\n",
              "      <th>25%</th>\n",
              "      <td>0.000000</td>\n",
              "      <td>18.00000</td>\n",
              "      <td>0.000000</td>\n",
              "    </tr>\n",
              "    <tr>\n",
              "      <th>50%</th>\n",
              "      <td>0.000000</td>\n",
              "      <td>19.00000</td>\n",
              "      <td>0.000000</td>\n",
              "    </tr>\n",
              "    <tr>\n",
              "      <th>75%</th>\n",
              "      <td>1.000000</td>\n",
              "      <td>23.00000</td>\n",
              "      <td>1.000000</td>\n",
              "    </tr>\n",
              "    <tr>\n",
              "      <th>max</th>\n",
              "      <td>1.000000</td>\n",
              "      <td>24.00000</td>\n",
              "      <td>1.000000</td>\n",
              "    </tr>\n",
              "  </tbody>\n",
              "</table>\n",
              "</div>\n",
              "      <button class=\"colab-df-convert\" onclick=\"convertToInteractive('df-bd1f8cbd-b99a-4908-b2c7-a9b503860675')\"\n",
              "              title=\"Convert this dataframe to an interactive table.\"\n",
              "              style=\"display:none;\">\n",
              "        \n",
              "  <svg xmlns=\"http://www.w3.org/2000/svg\" height=\"24px\"viewBox=\"0 0 24 24\"\n",
              "       width=\"24px\">\n",
              "    <path d=\"M0 0h24v24H0V0z\" fill=\"none\"/>\n",
              "    <path d=\"M18.56 5.44l.94 2.06.94-2.06 2.06-.94-2.06-.94-.94-2.06-.94 2.06-2.06.94zm-11 1L8.5 8.5l.94-2.06 2.06-.94-2.06-.94L8.5 2.5l-.94 2.06-2.06.94zm10 10l.94 2.06.94-2.06 2.06-.94-2.06-.94-.94-2.06-.94 2.06-2.06.94z\"/><path d=\"M17.41 7.96l-1.37-1.37c-.4-.4-.92-.59-1.43-.59-.52 0-1.04.2-1.43.59L10.3 9.45l-7.72 7.72c-.78.78-.78 2.05 0 2.83L4 21.41c.39.39.9.59 1.41.59.51 0 1.02-.2 1.41-.59l7.78-7.78 2.81-2.81c.8-.78.8-2.07 0-2.86zM5.41 20L4 18.59l7.72-7.72 1.47 1.35L5.41 20z\"/>\n",
              "  </svg>\n",
              "      </button>\n",
              "      \n",
              "  <style>\n",
              "    .colab-df-container {\n",
              "      display:flex;\n",
              "      flex-wrap:wrap;\n",
              "      gap: 12px;\n",
              "    }\n",
              "\n",
              "    .colab-df-convert {\n",
              "      background-color: #E8F0FE;\n",
              "      border: none;\n",
              "      border-radius: 50%;\n",
              "      cursor: pointer;\n",
              "      display: none;\n",
              "      fill: #1967D2;\n",
              "      height: 32px;\n",
              "      padding: 0 0 0 0;\n",
              "      width: 32px;\n",
              "    }\n",
              "\n",
              "    .colab-df-convert:hover {\n",
              "      background-color: #E2EBFA;\n",
              "      box-shadow: 0px 1px 2px rgba(60, 64, 67, 0.3), 0px 1px 3px 1px rgba(60, 64, 67, 0.15);\n",
              "      fill: #174EA6;\n",
              "    }\n",
              "\n",
              "    [theme=dark] .colab-df-convert {\n",
              "      background-color: #3B4455;\n",
              "      fill: #D2E3FC;\n",
              "    }\n",
              "\n",
              "    [theme=dark] .colab-df-convert:hover {\n",
              "      background-color: #434B5C;\n",
              "      box-shadow: 0px 1px 3px 1px rgba(0, 0, 0, 0.15);\n",
              "      filter: drop-shadow(0px 1px 2px rgba(0, 0, 0, 0.3));\n",
              "      fill: #FFFFFF;\n",
              "    }\n",
              "  </style>\n",
              "\n",
              "      <script>\n",
              "        const buttonEl =\n",
              "          document.querySelector('#df-bd1f8cbd-b99a-4908-b2c7-a9b503860675 button.colab-df-convert');\n",
              "        buttonEl.style.display =\n",
              "          google.colab.kernel.accessAllowed ? 'block' : 'none';\n",
              "\n",
              "        async function convertToInteractive(key) {\n",
              "          const element = document.querySelector('#df-bd1f8cbd-b99a-4908-b2c7-a9b503860675');\n",
              "          const dataTable =\n",
              "            await google.colab.kernel.invokeFunction('convertToInteractive',\n",
              "                                                     [key], {});\n",
              "          if (!dataTable) return;\n",
              "\n",
              "          const docLinkHtml = 'Like what you see? Visit the ' +\n",
              "            '<a target=\"_blank\" href=https://colab.research.google.com/notebooks/data_table.ipynb>data table notebook</a>'\n",
              "            + ' to learn more about interactive tables.';\n",
              "          element.innerHTML = '';\n",
              "          dataTable['output_type'] = 'display_data';\n",
              "          await google.colab.output.renderOutput(dataTable, element);\n",
              "          const docLink = document.createElement('div');\n",
              "          docLink.innerHTML = docLinkHtml;\n",
              "          element.appendChild(docLink);\n",
              "        }\n",
              "      </script>\n",
              "    </div>\n",
              "  </div>\n",
              "  "
            ]
          },
          "metadata": {},
          "execution_count": 65
        }
      ],
      "source": [
        "df.describe()\n"
      ]
    },
    {
      "cell_type": "code",
      "execution_count": 66,
      "id": "84ab1a45",
      "metadata": {
        "execution": {
          "iopub.execute_input": "2022-06-30T02:39:30.306761Z",
          "iopub.status.busy": "2022-06-30T02:39:30.306052Z",
          "iopub.status.idle": "2022-06-30T02:39:30.325208Z",
          "shell.execute_reply": "2022-06-30T02:39:30.324070Z"
        },
        "papermill": {
          "duration": 0.033169,
          "end_time": "2022-06-30T02:39:30.327714",
          "exception": false,
          "start_time": "2022-06-30T02:39:30.294545",
          "status": "completed"
        },
        "tags": [],
        "colab": {
          "base_uri": "https://localhost:8080/",
          "height": 652
        },
        "id": "84ab1a45",
        "outputId": "e5846e73-0285-4708-fa53-f39d28a74925"
      },
      "outputs": [
        {
          "output_type": "execute_result",
          "data": {
            "text/plain": [
              "   Choose your gender   Age What is your course? Your current year of Study  \\\n",
              "0                   0  18.0          Engineering                     year 1   \n",
              "1                   1  21.0            Education                     year 2   \n",
              "2                   1  19.0               Doctor                     Year 1   \n",
              "3                   0  22.0                 Laws                     year 3   \n",
              "4                   1  23.0         Mathemathics                     year 4   \n",
              "5                   1  19.0          Engineering                     Year 2   \n",
              "6                   0  23.0     Pendidikan islam                     year 2   \n",
              "7                   0  18.0                  BCS                     year 1   \n",
              "8                   0  19.0      Human Resources                     Year 2   \n",
              "9                   1  18.0                Irkhs                     year 1   \n",
              "\n",
              "  What is your CGPA? Marital status Do you have Depression?  \\\n",
              "0        3.00 - 3.49             No                     Yes   \n",
              "1        3.00 - 3.49             No                      No   \n",
              "2        3.00 - 3.49             No                     Yes   \n",
              "3        3.00 - 3.49            Yes                     Yes   \n",
              "4        3.00 - 3.49             No                      No   \n",
              "5        3.50 - 4.00             No                      No   \n",
              "6       3.50 - 4.00             Yes                     Yes   \n",
              "7        3.50 - 4.00             No                      No   \n",
              "8        2.50 - 2.99             No                      No   \n",
              "9        3.50 - 4.00             No                      No   \n",
              "\n",
              "  Do you have Anxiety? Do you have Panic attack?  Output  \n",
              "0                   No                       Yes       0  \n",
              "1                  Yes                        No       0  \n",
              "2                  Yes                       Yes       1  \n",
              "3                   No                        No       0  \n",
              "4                   No                        No       0  \n",
              "5                   No                       Yes       0  \n",
              "6                   No                       Yes       0  \n",
              "7                  Yes                        No       0  \n",
              "8                   No                        No       0  \n",
              "9                  Yes                       Yes       0  "
            ],
            "text/html": [
              "\n",
              "  <div id=\"df-a490b497-2b7e-4bec-a78e-4ed22870cb0c\">\n",
              "    <div class=\"colab-df-container\">\n",
              "      <div>\n",
              "<style scoped>\n",
              "    .dataframe tbody tr th:only-of-type {\n",
              "        vertical-align: middle;\n",
              "    }\n",
              "\n",
              "    .dataframe tbody tr th {\n",
              "        vertical-align: top;\n",
              "    }\n",
              "\n",
              "    .dataframe thead th {\n",
              "        text-align: right;\n",
              "    }\n",
              "</style>\n",
              "<table border=\"1\" class=\"dataframe\">\n",
              "  <thead>\n",
              "    <tr style=\"text-align: right;\">\n",
              "      <th></th>\n",
              "      <th>Choose your gender</th>\n",
              "      <th>Age</th>\n",
              "      <th>What is your course?</th>\n",
              "      <th>Your current year of Study</th>\n",
              "      <th>What is your CGPA?</th>\n",
              "      <th>Marital status</th>\n",
              "      <th>Do you have Depression?</th>\n",
              "      <th>Do you have Anxiety?</th>\n",
              "      <th>Do you have Panic attack?</th>\n",
              "      <th>Output</th>\n",
              "    </tr>\n",
              "  </thead>\n",
              "  <tbody>\n",
              "    <tr>\n",
              "      <th>0</th>\n",
              "      <td>0</td>\n",
              "      <td>18.0</td>\n",
              "      <td>Engineering</td>\n",
              "      <td>year 1</td>\n",
              "      <td>3.00 - 3.49</td>\n",
              "      <td>No</td>\n",
              "      <td>Yes</td>\n",
              "      <td>No</td>\n",
              "      <td>Yes</td>\n",
              "      <td>0</td>\n",
              "    </tr>\n",
              "    <tr>\n",
              "      <th>1</th>\n",
              "      <td>1</td>\n",
              "      <td>21.0</td>\n",
              "      <td>Education</td>\n",
              "      <td>year 2</td>\n",
              "      <td>3.00 - 3.49</td>\n",
              "      <td>No</td>\n",
              "      <td>No</td>\n",
              "      <td>Yes</td>\n",
              "      <td>No</td>\n",
              "      <td>0</td>\n",
              "    </tr>\n",
              "    <tr>\n",
              "      <th>2</th>\n",
              "      <td>1</td>\n",
              "      <td>19.0</td>\n",
              "      <td>Doctor</td>\n",
              "      <td>Year 1</td>\n",
              "      <td>3.00 - 3.49</td>\n",
              "      <td>No</td>\n",
              "      <td>Yes</td>\n",
              "      <td>Yes</td>\n",
              "      <td>Yes</td>\n",
              "      <td>1</td>\n",
              "    </tr>\n",
              "    <tr>\n",
              "      <th>3</th>\n",
              "      <td>0</td>\n",
              "      <td>22.0</td>\n",
              "      <td>Laws</td>\n",
              "      <td>year 3</td>\n",
              "      <td>3.00 - 3.49</td>\n",
              "      <td>Yes</td>\n",
              "      <td>Yes</td>\n",
              "      <td>No</td>\n",
              "      <td>No</td>\n",
              "      <td>0</td>\n",
              "    </tr>\n",
              "    <tr>\n",
              "      <th>4</th>\n",
              "      <td>1</td>\n",
              "      <td>23.0</td>\n",
              "      <td>Mathemathics</td>\n",
              "      <td>year 4</td>\n",
              "      <td>3.00 - 3.49</td>\n",
              "      <td>No</td>\n",
              "      <td>No</td>\n",
              "      <td>No</td>\n",
              "      <td>No</td>\n",
              "      <td>0</td>\n",
              "    </tr>\n",
              "    <tr>\n",
              "      <th>5</th>\n",
              "      <td>1</td>\n",
              "      <td>19.0</td>\n",
              "      <td>Engineering</td>\n",
              "      <td>Year 2</td>\n",
              "      <td>3.50 - 4.00</td>\n",
              "      <td>No</td>\n",
              "      <td>No</td>\n",
              "      <td>No</td>\n",
              "      <td>Yes</td>\n",
              "      <td>0</td>\n",
              "    </tr>\n",
              "    <tr>\n",
              "      <th>6</th>\n",
              "      <td>0</td>\n",
              "      <td>23.0</td>\n",
              "      <td>Pendidikan islam</td>\n",
              "      <td>year 2</td>\n",
              "      <td>3.50 - 4.00</td>\n",
              "      <td>Yes</td>\n",
              "      <td>Yes</td>\n",
              "      <td>No</td>\n",
              "      <td>Yes</td>\n",
              "      <td>0</td>\n",
              "    </tr>\n",
              "    <tr>\n",
              "      <th>7</th>\n",
              "      <td>0</td>\n",
              "      <td>18.0</td>\n",
              "      <td>BCS</td>\n",
              "      <td>year 1</td>\n",
              "      <td>3.50 - 4.00</td>\n",
              "      <td>No</td>\n",
              "      <td>No</td>\n",
              "      <td>Yes</td>\n",
              "      <td>No</td>\n",
              "      <td>0</td>\n",
              "    </tr>\n",
              "    <tr>\n",
              "      <th>8</th>\n",
              "      <td>0</td>\n",
              "      <td>19.0</td>\n",
              "      <td>Human Resources</td>\n",
              "      <td>Year 2</td>\n",
              "      <td>2.50 - 2.99</td>\n",
              "      <td>No</td>\n",
              "      <td>No</td>\n",
              "      <td>No</td>\n",
              "      <td>No</td>\n",
              "      <td>0</td>\n",
              "    </tr>\n",
              "    <tr>\n",
              "      <th>9</th>\n",
              "      <td>1</td>\n",
              "      <td>18.0</td>\n",
              "      <td>Irkhs</td>\n",
              "      <td>year 1</td>\n",
              "      <td>3.50 - 4.00</td>\n",
              "      <td>No</td>\n",
              "      <td>No</td>\n",
              "      <td>Yes</td>\n",
              "      <td>Yes</td>\n",
              "      <td>0</td>\n",
              "    </tr>\n",
              "  </tbody>\n",
              "</table>\n",
              "</div>\n",
              "      <button class=\"colab-df-convert\" onclick=\"convertToInteractive('df-a490b497-2b7e-4bec-a78e-4ed22870cb0c')\"\n",
              "              title=\"Convert this dataframe to an interactive table.\"\n",
              "              style=\"display:none;\">\n",
              "        \n",
              "  <svg xmlns=\"http://www.w3.org/2000/svg\" height=\"24px\"viewBox=\"0 0 24 24\"\n",
              "       width=\"24px\">\n",
              "    <path d=\"M0 0h24v24H0V0z\" fill=\"none\"/>\n",
              "    <path d=\"M18.56 5.44l.94 2.06.94-2.06 2.06-.94-2.06-.94-.94-2.06-.94 2.06-2.06.94zm-11 1L8.5 8.5l.94-2.06 2.06-.94-2.06-.94L8.5 2.5l-.94 2.06-2.06.94zm10 10l.94 2.06.94-2.06 2.06-.94-2.06-.94-.94-2.06-.94 2.06-2.06.94z\"/><path d=\"M17.41 7.96l-1.37-1.37c-.4-.4-.92-.59-1.43-.59-.52 0-1.04.2-1.43.59L10.3 9.45l-7.72 7.72c-.78.78-.78 2.05 0 2.83L4 21.41c.39.39.9.59 1.41.59.51 0 1.02-.2 1.41-.59l7.78-7.78 2.81-2.81c.8-.78.8-2.07 0-2.86zM5.41 20L4 18.59l7.72-7.72 1.47 1.35L5.41 20z\"/>\n",
              "  </svg>\n",
              "      </button>\n",
              "      \n",
              "  <style>\n",
              "    .colab-df-container {\n",
              "      display:flex;\n",
              "      flex-wrap:wrap;\n",
              "      gap: 12px;\n",
              "    }\n",
              "\n",
              "    .colab-df-convert {\n",
              "      background-color: #E8F0FE;\n",
              "      border: none;\n",
              "      border-radius: 50%;\n",
              "      cursor: pointer;\n",
              "      display: none;\n",
              "      fill: #1967D2;\n",
              "      height: 32px;\n",
              "      padding: 0 0 0 0;\n",
              "      width: 32px;\n",
              "    }\n",
              "\n",
              "    .colab-df-convert:hover {\n",
              "      background-color: #E2EBFA;\n",
              "      box-shadow: 0px 1px 2px rgba(60, 64, 67, 0.3), 0px 1px 3px 1px rgba(60, 64, 67, 0.15);\n",
              "      fill: #174EA6;\n",
              "    }\n",
              "\n",
              "    [theme=dark] .colab-df-convert {\n",
              "      background-color: #3B4455;\n",
              "      fill: #D2E3FC;\n",
              "    }\n",
              "\n",
              "    [theme=dark] .colab-df-convert:hover {\n",
              "      background-color: #434B5C;\n",
              "      box-shadow: 0px 1px 3px 1px rgba(0, 0, 0, 0.15);\n",
              "      filter: drop-shadow(0px 1px 2px rgba(0, 0, 0, 0.3));\n",
              "      fill: #FFFFFF;\n",
              "    }\n",
              "  </style>\n",
              "\n",
              "      <script>\n",
              "        const buttonEl =\n",
              "          document.querySelector('#df-a490b497-2b7e-4bec-a78e-4ed22870cb0c button.colab-df-convert');\n",
              "        buttonEl.style.display =\n",
              "          google.colab.kernel.accessAllowed ? 'block' : 'none';\n",
              "\n",
              "        async function convertToInteractive(key) {\n",
              "          const element = document.querySelector('#df-a490b497-2b7e-4bec-a78e-4ed22870cb0c');\n",
              "          const dataTable =\n",
              "            await google.colab.kernel.invokeFunction('convertToInteractive',\n",
              "                                                     [key], {});\n",
              "          if (!dataTable) return;\n",
              "\n",
              "          const docLinkHtml = 'Like what you see? Visit the ' +\n",
              "            '<a target=\"_blank\" href=https://colab.research.google.com/notebooks/data_table.ipynb>data table notebook</a>'\n",
              "            + ' to learn more about interactive tables.';\n",
              "          element.innerHTML = '';\n",
              "          dataTable['output_type'] = 'display_data';\n",
              "          await google.colab.output.renderOutput(dataTable, element);\n",
              "          const docLink = document.createElement('div');\n",
              "          docLink.innerHTML = docLinkHtml;\n",
              "          element.appendChild(docLink);\n",
              "        }\n",
              "      </script>\n",
              "    </div>\n",
              "  </div>\n",
              "  "
            ]
          },
          "metadata": {},
          "execution_count": 66
        }
      ],
      "source": [
        "df.head(10)\n"
      ]
    },
    {
      "cell_type": "markdown",
      "id": "63a2c47f",
      "metadata": {
        "papermill": {
          "duration": 0.00969,
          "end_time": "2022-06-30T02:39:30.347861",
          "exception": false,
          "start_time": "2022-06-30T02:39:30.338171",
          "status": "completed"
        },
        "tags": [],
        "id": "63a2c47f"
      },
      "source": [
        "### missing value"
      ]
    },
    {
      "cell_type": "code",
      "execution_count": 67,
      "id": "e7bb1d28",
      "metadata": {
        "collapsed": true,
        "execution": {
          "iopub.execute_input": "2022-06-30T02:39:30.369803Z",
          "iopub.status.busy": "2022-06-30T02:39:30.369404Z",
          "iopub.status.idle": "2022-06-30T02:39:30.377526Z",
          "shell.execute_reply": "2022-06-30T02:39:30.376723Z"
        },
        "jupyter": {
          "outputs_hidden": true
        },
        "papermill": {
          "duration": 0.021725,
          "end_time": "2022-06-30T02:39:30.379725",
          "exception": false,
          "start_time": "2022-06-30T02:39:30.358000",
          "status": "completed"
        },
        "tags": [],
        "id": "e7bb1d28",
        "outputId": "7b126e23-c92b-401c-cd1a-7abce8030ca7",
        "colab": {
          "base_uri": "https://localhost:8080/"
        }
      },
      "outputs": [
        {
          "output_type": "execute_result",
          "data": {
            "text/plain": [
              "Choose your gender            0\n",
              "Age                           1\n",
              "What is your course?          0\n",
              "Your current year of Study    0\n",
              "What is your CGPA?            0\n",
              "Marital status                0\n",
              "Do you have Depression?       0\n",
              "Do you have Anxiety?          0\n",
              "Do you have Panic attack?     0\n",
              "Output                        0\n",
              "dtype: int64"
            ]
          },
          "metadata": {},
          "execution_count": 67
        }
      ],
      "source": [
        "df.isnull().sum()"
      ]
    },
    {
      "cell_type": "code",
      "execution_count": 68,
      "id": "131f1a5d",
      "metadata": {
        "execution": {
          "iopub.execute_input": "2022-06-30T02:39:30.402287Z",
          "iopub.status.busy": "2022-06-30T02:39:30.401624Z",
          "iopub.status.idle": "2022-06-30T02:39:30.407267Z",
          "shell.execute_reply": "2022-06-30T02:39:30.406184Z"
        },
        "papermill": {
          "duration": 0.020002,
          "end_time": "2022-06-30T02:39:30.410001",
          "exception": false,
          "start_time": "2022-06-30T02:39:30.389999",
          "status": "completed"
        },
        "tags": [],
        "id": "131f1a5d"
      },
      "outputs": [],
      "source": [
        "df['Age']=df['Age'].fillna(int(df['Age'].mean()))"
      ]
    },
    {
      "cell_type": "code",
      "execution_count": 69,
      "id": "7be65da1",
      "metadata": {
        "collapsed": true,
        "execution": {
          "iopub.execute_input": "2022-06-30T02:39:30.432632Z",
          "iopub.status.busy": "2022-06-30T02:39:30.431828Z",
          "iopub.status.idle": "2022-06-30T02:39:30.441428Z",
          "shell.execute_reply": "2022-06-30T02:39:30.440505Z"
        },
        "jupyter": {
          "outputs_hidden": true
        },
        "papermill": {
          "duration": 0.023582,
          "end_time": "2022-06-30T02:39:30.443727",
          "exception": false,
          "start_time": "2022-06-30T02:39:30.420145",
          "status": "completed"
        },
        "tags": [],
        "id": "7be65da1",
        "outputId": "c9480212-7851-4012-c117-edbba81ef4d7",
        "colab": {
          "base_uri": "https://localhost:8080/"
        }
      },
      "outputs": [
        {
          "output_type": "execute_result",
          "data": {
            "text/plain": [
              "Choose your gender            0\n",
              "Age                           0\n",
              "What is your course?          0\n",
              "Your current year of Study    0\n",
              "What is your CGPA?            0\n",
              "Marital status                0\n",
              "Do you have Depression?       0\n",
              "Do you have Anxiety?          0\n",
              "Do you have Panic attack?     0\n",
              "Output                        0\n",
              "dtype: int64"
            ]
          },
          "metadata": {},
          "execution_count": 69
        }
      ],
      "source": [
        "df.isnull().sum()"
      ]
    },
    {
      "cell_type": "markdown",
      "id": "46c32c92",
      "metadata": {
        "papermill": {
          "duration": 0.010034,
          "end_time": "2022-06-30T02:39:30.464233",
          "exception": false,
          "start_time": "2022-06-30T02:39:30.454199",
          "status": "completed"
        },
        "tags": [],
        "id": "46c32c92"
      },
      "source": [
        "### find non duplicated courses in dataset"
      ]
    },
    {
      "cell_type": "code",
      "execution_count": 70,
      "id": "8b592909",
      "metadata": {
        "execution": {
          "iopub.execute_input": "2022-06-30T02:39:30.487403Z",
          "iopub.status.busy": "2022-06-30T02:39:30.486640Z",
          "iopub.status.idle": "2022-06-30T02:39:30.494713Z",
          "shell.execute_reply": "2022-06-30T02:39:30.493656Z"
        },
        "papermill": {
          "duration": 0.022495,
          "end_time": "2022-06-30T02:39:30.497188",
          "exception": false,
          "start_time": "2022-06-30T02:39:30.474693",
          "status": "completed"
        },
        "tags": [],
        "id": "8b592909",
        "outputId": "371d3517-dcf3-4a92-d4ef-f0e1bdb2f1ca",
        "colab": {
          "base_uri": "https://localhost:8080/"
        }
      },
      "outputs": [
        {
          "output_type": "execute_result",
          "data": {
            "text/plain": [
              "array(['Engineering', 'Education', 'Doctor', 'Laws', 'Mathemathics',\n",
              "       'Pendidikan islam', 'BCS', 'Human Resources', 'Irkhs',\n",
              "       'Psychology', 'KENMS', 'Accounting ', 'ENM', 'BIT',\n",
              "       'Marine science', 'KOE', 'Banking Studies',\n",
              "       'Business Administration', 'Law', 'KIRKHS', 'Usuluddin ', 'TAASL',\n",
              "       'Engine', 'ALA', 'Biomedical science', 'koe', 'Kirkhs', 'BENL',\n",
              "       'Benl', 'IT', 'CTS', 'engin', 'Econs', 'MHSC', 'Malcom', 'Kop',\n",
              "       'Human Sciences ', 'Biotechnology', 'Communication ',\n",
              "       'Diploma Nursing', 'Pendidikan Islam ', 'Radiography',\n",
              "       'psychology', 'Fiqh fatwa ', 'DIPLOMA TESL', 'Koe', 'Fiqh',\n",
              "       'Islamic Education', 'Nursing ', 'Pendidikan Islam'], dtype=object)"
            ]
          },
          "metadata": {},
          "execution_count": 70
        }
      ],
      "source": [
        "arr = df[\"What is your course?\"].unique()\n",
        "\n",
        "arr\n"
      ]
    },
    {
      "cell_type": "markdown",
      "id": "6d77a40b",
      "metadata": {
        "papermill": {
          "duration": 0.01024,
          "end_time": "2022-06-30T02:39:30.517807",
          "exception": false,
          "start_time": "2022-06-30T02:39:30.507567",
          "status": "completed"
        },
        "tags": [],
        "id": "6d77a40b"
      },
      "source": [
        "### make some visualization to find answers"
      ]
    },
    {
      "cell_type": "code",
      "execution_count": 71,
      "id": "c10ecdcf",
      "metadata": {
        "execution": {
          "iopub.execute_input": "2022-06-30T02:39:30.541005Z",
          "iopub.status.busy": "2022-06-30T02:39:30.540252Z",
          "iopub.status.idle": "2022-06-30T02:39:30.898745Z",
          "shell.execute_reply": "2022-06-30T02:39:30.897508Z"
        },
        "papermill": {
          "duration": 0.372928,
          "end_time": "2022-06-30T02:39:30.901154",
          "exception": false,
          "start_time": "2022-06-30T02:39:30.528226",
          "status": "completed"
        },
        "tags": [],
        "id": "c10ecdcf",
        "outputId": "ca997ece-cd79-4592-f7bb-4cd2a3948f7e",
        "colab": {
          "base_uri": "https://localhost:8080/",
          "height": 382
        }
      },
      "outputs": [
        {
          "output_type": "execute_result",
          "data": {
            "text/plain": [
              "<seaborn.axisgrid.FacetGrid at 0x7ff103c5a7d0>"
            ]
          },
          "metadata": {},
          "execution_count": 71
        },
        {
          "output_type": "display_data",
          "data": {
            "text/plain": [
              "<Figure size 500.55x360 with 1 Axes>"
            ],
            "image/png": "[encoded data removed]"
          },
          "metadata": {}
        }
      ],
      "source": [
        "sns.catplot(x='Choose your gender',hue='Do you have Anxiety?',kind='count',data=df)"
      ]
    },
    {
      "cell_type": "code",
      "execution_count": 72,
      "id": "4fcb23d0",
      "metadata": {
        "execution": {
          "iopub.execute_input": "2022-06-30T02:39:30.925594Z",
          "iopub.status.busy": "2022-06-30T02:39:30.924447Z",
          "iopub.status.idle": "2022-06-30T02:39:31.216784Z",
          "shell.execute_reply": "2022-06-30T02:39:31.215618Z"
        },
        "papermill": {
          "duration": 0.307158,
          "end_time": "2022-06-30T02:39:31.219214",
          "exception": false,
          "start_time": "2022-06-30T02:39:30.912056",
          "status": "completed"
        },
        "tags": [],
        "id": "4fcb23d0",
        "outputId": "875bd18d-c4d9-4e37-b4ee-65bf9a160435",
        "colab": {
          "base_uri": "https://localhost:8080/",
          "height": 382
        }
      },
      "outputs": [
        {
          "output_type": "execute_result",
          "data": {
            "text/plain": [
              "<seaborn.axisgrid.FacetGrid at 0x7ff104ae8490>"
            ]
          },
          "metadata": {},
          "execution_count": 72
        },
        {
          "output_type": "display_data",
          "data": {
            "text/plain": [
              "<Figure size 522.3x360 with 1 Axes>"
            ],
            "image/png": "[encoded data removed]"
          },
          "metadata": {}
        }
      ],
      "source": [
        "sns.catplot(x='Choose your gender',hue='Do you have Depression?',kind='count',data=df)"
      ]
    },
    {
      "cell_type": "code",
      "execution_count": 73,
      "id": "2aa94983",
      "metadata": {
        "execution": {
          "iopub.execute_input": "2022-06-30T02:39:31.243607Z",
          "iopub.status.busy": "2022-06-30T02:39:31.243186Z",
          "iopub.status.idle": "2022-06-30T02:39:31.561383Z",
          "shell.execute_reply": "2022-06-30T02:39:31.560611Z"
        },
        "papermill": {
          "duration": 0.333249,
          "end_time": "2022-06-30T02:39:31.563733",
          "exception": false,
          "start_time": "2022-06-30T02:39:31.230484",
          "status": "completed"
        },
        "tags": [],
        "id": "2aa94983",
        "outputId": "42a8241f-13b7-4d1e-d1cf-c7931e3208ca",
        "colab": {
          "base_uri": "https://localhost:8080/",
          "height": 382
        }
      },
      "outputs": [
        {
          "output_type": "execute_result",
          "data": {
            "text/plain": [
              "<seaborn.axisgrid.FacetGrid at 0x7ff103ad9a50>"
            ]
          },
          "metadata": {},
          "execution_count": 73
        },
        {
          "output_type": "display_data",
          "data": {
            "text/plain": [
              "<Figure size 528.425x360 with 1 Axes>"
            ],
            "image/png": "[encoded data removed]"
          },
          "metadata": {}
        }
      ],
      "source": [
        "sns.catplot(x='Choose your gender',hue='Do you have Panic attack?',kind='count',data=df)"
      ]
    },
    {
      "cell_type": "markdown",
      "id": "82404410",
      "metadata": {
        "papermill": {
          "duration": 0.011657,
          "end_time": "2022-06-30T02:39:31.938433",
          "exception": false,
          "start_time": "2022-06-30T02:39:31.926776",
          "status": "completed"
        },
        "tags": [],
        "id": "82404410"
      },
      "source": []
    },
    {
      "cell_type": "code",
      "execution_count": 74,
      "id": "dfbdf40d",
      "metadata": {
        "execution": {
          "iopub.execute_input": "2022-06-30T02:39:31.964970Z",
          "iopub.status.busy": "2022-06-30T02:39:31.963880Z",
          "iopub.status.idle": "2022-06-30T02:39:32.132925Z",
          "shell.execute_reply": "2022-06-30T02:39:32.132058Z"
        },
        "papermill": {
          "duration": 0.185141,
          "end_time": "2022-06-30T02:39:32.135408",
          "exception": false,
          "start_time": "2022-06-30T02:39:31.950267",
          "status": "completed"
        },
        "tags": [],
        "id": "dfbdf40d",
        "outputId": "aa807d77-fa67-4669-e2f7-5315b2b4c816",
        "colab": {
          "base_uri": "https://localhost:8080/",
          "height": 386
        }
      },
      "outputs": [
        {
          "output_type": "execute_result",
          "data": {
            "text/plain": [
              "<matplotlib.axes._subplots.AxesSubplot at 0x7ff1039d6b90>"
            ]
          },
          "metadata": {},
          "execution_count": 74
        },
        {
          "output_type": "display_data",
          "data": {
            "text/plain": [
              "<Figure size 1080x576 with 1 Axes>"
            ],
            "image/png": "[encoded data removed]"
          },
          "metadata": {}
        }
      ],
      "source": [
        " sns.countplot(x=\"Marital status\",data=df)"
      ]
    },
    {
      "cell_type": "markdown",
      "id": "0aca1cec",
      "metadata": {
        "papermill": {
          "duration": 0.012146,
          "end_time": "2022-06-30T02:39:32.160845",
          "exception": false,
          "start_time": "2022-06-30T02:39:32.148699",
          "status": "completed"
        },
        "tags": [],
        "id": "0aca1cec"
      },
      "source": [
        "### so in this figures we see the female more senstive than male and have alot of Depression and the most of students are single "
      ]
    },
    {
      "cell_type": "code",
      "execution_count": 75,
      "id": "859f7d00",
      "metadata": {
        "execution": {
          "iopub.execute_input": "2022-06-30T02:39:32.188552Z",
          "iopub.status.busy": "2022-06-30T02:39:32.187349Z",
          "iopub.status.idle": "2022-06-30T02:39:32.450860Z",
          "shell.execute_reply": "2022-06-30T02:39:32.450063Z"
        },
        "papermill": {
          "duration": 0.279443,
          "end_time": "2022-06-30T02:39:32.453076",
          "exception": false,
          "start_time": "2022-06-30T02:39:32.173633",
          "status": "completed"
        },
        "tags": [],
        "id": "859f7d00",
        "outputId": "af958fc9-ce8c-48c6-e65f-7f133626c21e",
        "colab": {
          "base_uri": "https://localhost:8080/",
          "height": 381
        }
      },
      "outputs": [
        {
          "output_type": "execute_result",
          "data": {
            "text/plain": [
              "<matplotlib.axes._subplots.AxesSubplot at 0x7ff1039b0c90>"
            ]
          },
          "metadata": {},
          "execution_count": 75
        },
        {
          "output_type": "display_data",
          "data": {
            "text/plain": [
              "<Figure size 1080x576 with 1 Axes>"
            ],
            "image/png": "[encoded data removed]"
          },
          "metadata": {}
        }
      ],
      "source": [
        " sns.countplot(x=\"Age\", hue='Do you have Anxiety?',data=df)"
      ]
    },
    {
      "cell_type": "code",
      "execution_count": 76,
      "id": "036e3020",
      "metadata": {
        "execution": {
          "iopub.execute_input": "2022-06-30T02:39:32.482035Z",
          "iopub.status.busy": "2022-06-30T02:39:32.480955Z",
          "iopub.status.idle": "2022-06-30T02:39:32.715317Z",
          "shell.execute_reply": "2022-06-30T02:39:32.714149Z"
        },
        "papermill": {
          "duration": 0.251336,
          "end_time": "2022-06-30T02:39:32.717855",
          "exception": false,
          "start_time": "2022-06-30T02:39:32.466519",
          "status": "completed"
        },
        "tags": [],
        "id": "036e3020",
        "outputId": "d75e2c12-8ed5-4f92-99ef-3ceccf7dc292",
        "colab": {
          "base_uri": "https://localhost:8080/",
          "height": 386
        }
      },
      "outputs": [
        {
          "output_type": "execute_result",
          "data": {
            "text/plain": [
              "<matplotlib.axes._subplots.AxesSubplot at 0x7ff104b0ddd0>"
            ]
          },
          "metadata": {},
          "execution_count": 76
        },
        {
          "output_type": "display_data",
          "data": {
            "text/plain": [
              "<Figure size 1080x576 with 1 Axes>"
            ],
            "image/png": "[encoded data removed]"
          },
          "metadata": {}
        }
      ],
      "source": [
        " sns.countplot(x=\"Your current year of Study\", hue='Do you have Depression?',data=df)"
      ]
    },
    {
      "cell_type": "markdown",
      "id": "676dbbf5",
      "metadata": {
        "papermill": {
          "duration": 0.012872,
          "end_time": "2022-06-30T02:39:32.743939",
          "exception": false,
          "start_time": "2022-06-30T02:39:32.731067",
          "status": "completed"
        },
        "tags": [],
        "id": "676dbbf5"
      },
      "source": [
        "### A lot of depression and anxiety come in the first year and his age is 18, which means that the student is afraid of the unknown and doubts the extent of his ability to choose his field of study."
      ]
    },
    {
      "cell_type": "code",
      "execution_count": 77,
      "id": "f2bcf3e7",
      "metadata": {
        "execution": {
          "iopub.execute_input": "2022-06-30T02:39:32.772784Z",
          "iopub.status.busy": "2022-06-30T02:39:32.772076Z",
          "iopub.status.idle": "2022-06-30T02:39:32.970996Z",
          "shell.execute_reply": "2022-06-30T02:39:32.969803Z"
        },
        "papermill": {
          "duration": 0.215898,
          "end_time": "2022-06-30T02:39:32.973516",
          "exception": false,
          "start_time": "2022-06-30T02:39:32.757618",
          "status": "completed"
        },
        "tags": [],
        "id": "f2bcf3e7",
        "outputId": "28820f47-f4a1-44d8-959e-92aec8612bc6",
        "colab": {
          "base_uri": "https://localhost:8080/",
          "height": 386
        }
      },
      "outputs": [
        {
          "output_type": "execute_result",
          "data": {
            "text/plain": [
              "<matplotlib.axes._subplots.AxesSubplot at 0x7ff1038f6050>"
            ]
          },
          "metadata": {},
          "execution_count": 77
        },
        {
          "output_type": "display_data",
          "data": {
            "text/plain": [
              "<Figure size 1080x576 with 1 Axes>"
            ],
            "image/png": "[encoded data removed]"
          },
          "metadata": {}
        }
      ],
      "source": [
        " sns.countplot(x=\"What is your CGPA?\", hue='Do you have Depression?',data=df)"
      ]
    },
    {
      "cell_type": "code",
      "source": [
        "sns.countplot(x='Output', data=df)"
      ],
      "metadata": {
        "colab": {
          "base_uri": "https://localhost:8080/",
          "height": 386
        },
        "id": "YpSgxaNebnV3",
        "outputId": "1f5a4922-b6c7-496f-f03f-0618af7bcb2f"
      },
      "id": "YpSgxaNebnV3",
      "execution_count": 78,
      "outputs": [
        {
          "output_type": "execute_result",
          "data": {
            "text/plain": [
              "<matplotlib.axes._subplots.AxesSubplot at 0x7ff103879e90>"
            ]
          },
          "metadata": {},
          "execution_count": 78
        },
        {
          "output_type": "display_data",
          "data": {
            "text/plain": [
              "<Figure size 1080x576 with 1 Axes>"
            ],
            "image/png": "[encoded data removed]"
          },
          "metadata": {}
        }
      ]
    },
    {
      "cell_type": "markdown",
      "id": "5d8f71fd",
      "metadata": {
        "papermill": {
          "duration": 0.013645,
          "end_time": "2022-06-30T02:39:33.000757",
          "exception": false,
          "start_time": "2022-06-30T02:39:32.987112",
          "status": "completed"
        },
        "tags": [],
        "id": "5d8f71fd"
      },
      "source": [
        "### but the most of students have a high GPA which mean the Depression has a little effect on GPA"
      ]
    },
    {
      "cell_type": "code",
      "execution_count": 79,
      "id": "0e72ac34",
      "metadata": {
        "execution": {
          "iopub.execute_input": "2022-06-30T02:39:33.033993Z",
          "iopub.status.busy": "2022-06-30T02:39:33.033562Z",
          "iopub.status.idle": "2022-06-30T02:39:34.332488Z",
          "shell.execute_reply": "2022-06-30T02:39:34.331379Z"
        },
        "papermill": {
          "duration": 1.317072,
          "end_time": "2022-06-30T02:39:34.335147",
          "exception": false,
          "start_time": "2022-06-30T02:39:33.018075",
          "status": "completed"
        },
        "tags": [],
        "id": "0e72ac34",
        "outputId": "54a88b7b-452b-483f-e4f8-1c476d976700",
        "colab": {
          "base_uri": "https://localhost:8080/",
          "height": 457
        }
      },
      "outputs": [
        {
          "output_type": "display_data",
          "data": {
            "text/plain": [
              "<Figure size 1080x576 with 1 Axes>"
            ],
            "image/png": "[encoded data removed]"
          },
          "metadata": {}
        }
      ],
      "source": [
        "sns.set(rc = {'figure.figsize':(15,8)})\n",
        "yr=sns.countplot(x='What is your course?',hue='Do you have Depression?',data=df)\n",
        "yr.set_xticklabels(yr.get_xticklabels(),rotation=90);"
      ]
    },
    {
      "cell_type": "code",
      "source": [
        "classifier = KNeighborsClassifier()\n",
        "\n",
        "df = pd.read_csv('/content/Student Mental health.csv')\n",
        "X = df.drop(columns = 'Output', axis=1)\n",
        "Y = df['Output']\n",
        "X_train, X_test, Y_train, Y_test = train_test_split(X, Y, test_size=0.2, stratify=Y, random_state=2)\n",
        "print(X_train, Y_train)\n",
        "\n"
      ],
      "metadata": {
        "id": "URXqGUd_dKkl",
        "colab": {
          "base_uri": "https://localhost:8080/"
        },
        "outputId": "63957448-5fb3-4fa7-ab3e-ad720e6cf0ed"
      },
      "id": "URXqGUd_dKkl",
      "execution_count": 80,
      "outputs": [
        {
          "output_type": "stream",
          "name": "stdout",
          "text": [
            "     Choose your gender   Age What is your course? Your current year of Study  \\\n",
            "69                    0  24.0                  Kop                     year 4   \n",
            "100                   1  20.0   Biomedical science                     Year 2   \n",
            "54                    0  19.0                  BCS                     year 1   \n",
            "60                    0  18.0                   IT                     Year 3   \n",
            "89                    1  24.0          Engineering                     Year 2   \n",
            "..                  ...   ...                  ...                        ...   \n",
            "96                    0  21.0                  BCS                     year 1   \n",
            "14                    0  18.0                KENMS                     Year 2   \n",
            "79                    0  18.0          Engineering                     year 4   \n",
            "84                    1  23.0          Radiography                     year 1   \n",
            "28                    0  24.0                  BIT                     Year 3   \n",
            "\n",
            "    What is your CGPA? Marital status Do you have Depression?  \\\n",
            "69         3.00 - 3.49             No                      No   \n",
            "100        3.00 - 3.49             No                      No   \n",
            "54         3.50 - 4.00             No                     Yes   \n",
            "60         3.00 - 3.49             No                      No   \n",
            "89         2.00 - 2.49             No                      No   \n",
            "..                 ...            ...                     ...   \n",
            "96         3.50 - 4.00             No                      No   \n",
            "14         3.50 - 4.00             No                      No   \n",
            "79         3.50 - 4.00             No                      No   \n",
            "84         3.00 - 3.49             No                      No   \n",
            "28         3.50 - 4.00            Yes                     Yes   \n",
            "\n",
            "    Do you have Anxiety? Do you have Panic attack?  \n",
            "69                   Yes                        No  \n",
            "100                   No                        No  \n",
            "54                    No                       Yes  \n",
            "60                    No                       Yes  \n",
            "89                    No                       Yes  \n",
            "..                   ...                       ...  \n",
            "96                   Yes                        No  \n",
            "14                   Yes                        No  \n",
            "79                    No                        No  \n",
            "84                    No                        No  \n",
            "28                   Yes                       Yes  \n",
            "\n",
            "[80 rows x 9 columns] 69     0\n",
            "100    0\n",
            "54     1\n",
            "60     0\n",
            "89     0\n",
            "      ..\n",
            "96     0\n",
            "14     0\n",
            "79     0\n",
            "84     0\n",
            "28     1\n",
            "Name: Output, Length: 80, dtype: int64\n"
          ]
        }
      ]
    },
    {
      "cell_type": "code",
      "source": [
        "from sklearn.preprocessing import StandardScaler\n",
        "scaler = StandardScaler()\n",
        "def fit(X, y=None, sample_weight=None):\n",
        "  scaler.fit(X_train)\n",
        "  X_train = scaler.transform(X_train)\n",
        "  X_test = scaler.transform(X_test)"
      ],
      "metadata": {
        "id": "AdjNt-baZz50"
      },
      "id": "AdjNt-baZz50",
      "execution_count": 81,
      "outputs": []
    },
    {
      "cell_type": "code",
      "source": [
        "print(X.shape, X_train.shape, X_test.shape)"
      ],
      "metadata": {
        "colab": {
          "base_uri": "https://localhost:8080/"
        },
        "id": "W_eQi9CIs32n",
        "outputId": "e1637537-d9da-4186-e528-d5ab77e65a8f"
      },
      "id": "W_eQi9CIs32n",
      "execution_count": 82,
      "outputs": [
        {
          "output_type": "stream",
          "name": "stdout",
          "text": [
            "(101, 9) (80, 9) (21, 9)\n"
          ]
        }
      ]
    },
    {
      "cell_type": "code",
      "source": [
        "def train(classifier,X,Y):\n",
        "  classifier = KNeighborsClassifier()\n",
        "  classifier.fit(X_train, Y_train)\n",
        "  X_train_prediction = classifier.predict(X_train)\n",
        "  training_data_accuracy = accuracy_score(X_train_prediction, Y_train)\n",
        "  print('Accuracy score of the training data : ', training_data_accuracy)\n",
        "  return training_data_accuracy\n",
        "\n",
        "print(classifier)"
      ],
      "metadata": {
        "colab": {
          "base_uri": "https://localhost:8080/"
        },
        "id": "Kijh_wcPeTGy",
        "outputId": "713fa3c0-d0ca-44ba-9810-57de1327c8ff"
      },
      "id": "Kijh_wcPeTGy",
      "execution_count": 106,
      "outputs": [
        {
          "output_type": "stream",
          "name": "stdout",
          "text": [
            "KNeighborsClassifier()\n"
          ]
        }
      ]
    },
    {
      "cell_type": "code",
      "source": [
        "X_test_prediction = classifier.predict(X_test)\n",
        "test_data_accuracy = accuracy_score(X_test_prediction, Y_test)\n",
        "print('Accuracy score of the test data : ', test_data_accuracy)"
      ],
      "metadata": {
        "id": "mnFZLnKafT7f"
      },
      "id": "mnFZLnKafT7f",
      "execution_count": 84,
      "outputs": []
    },
    {
      "cell_type": "code",
      "source": [
        "# changing the input_data to numpy array\n",
        "input_data_as_numpy_array = np.asarray('a')\n",
        "\n",
        "# reshape the array as we are predicting for one instance\n",
        "input_data_reshaped = input_data_as_numpy_array.reshape(1,-1)\n",
        "\n",
        "def predict(X):\n",
        "  prediction = classifier.predict(input_data_reshaped)\n",
        "  print(prediction)\n",
        "  if (prediction[0] == 'maize'):\n",
        "    print('The land is suitable for maize')\n",
        "  elif(prediction[0]=='rice'):\n",
        "    print('The land is suitable for rice')\n"
      ],
      "metadata": {
        "id": "Xrl2Fet7fiGo"
      },
      "id": "Xrl2Fet7fiGo",
      "execution_count": 99,
      "outputs": []
    },
    {
      "cell_type": "code",
      "source": [
        "import pickle\n",
        "filename = 'mentalhealthdata.sav'\n",
        "pickle.dump(classifier, open(filename, 'wb'))\n",
        "# loading the saved model\n",
        "loaded_model = pickle.load(open('mentalhealthdata.sav', 'rb'))"
      ],
      "metadata": {
        "id": "eCTAYYz0vV1T"
      },
      "id": "eCTAYYz0vV1T",
      "execution_count": 97,
      "outputs": []
    },
    {
      "cell_type": "markdown",
      "id": "c6aabaee",
      "metadata": {
        "papermill": {
          "duration": 0.014251,
          "end_time": "2022-06-30T02:39:34.364075",
          "exception": false,
          "start_time": "2022-06-30T02:39:34.349824",
          "status": "completed"
        },
        "tags": [],
        "id": "c6aabaee"
      },
      "source": [
        "### clearly in this viz the most study field has alot of Depression is Engineering "
      ]
    },
    {
      "cell_type": "markdown",
      "id": "6a03284c",
      "metadata": {
        "papermill": {
          "duration": 0.014437,
          "end_time": "2022-06-30T02:39:34.421661",
          "exception": false,
          "start_time": "2022-06-30T02:39:34.407224",
          "status": "completed"
        },
        "tags": [],
        "id": "6a03284c"
      },
      "source": [
        "### Therefore, females are more sensitive than males, and students have more depression in the first year. To solve this problem, the field of study must be clearly defined for the student to have confidence in his choice and provide psychological support to students more in the first year and those of young ages and give support to whoes study Engineering"
      ]
    },
    {
      "cell_type": "code",
      "source": [],
      "metadata": {
        "id": "ACpkanBVbMvN"
      },
      "id": "ACpkanBVbMvN",
      "execution_count": 87,
      "outputs": []
    },
    {
      "cell_type": "code",
      "source": [],
      "metadata": {
        "id": "sgEKuuSgdI4O"
      },
      "id": "sgEKuuSgdI4O",
      "execution_count": 96,
      "outputs": []
    },
    {
      "cell_type": "code",
      "source": [
        "df.describe()"
      ],
      "metadata": {
        "id": "gYvXSPxQxI-m"
      },
      "id": "gYvXSPxQxI-m",
      "execution_count": null,
      "outputs": []
    },
    {
      "cell_type": "markdown",
      "id": "827a11eb",
      "metadata": {
        "papermill": {
          "duration": 0.014485,
          "end_time": "2022-06-30T02:39:34.450773",
          "exception": false,
          "start_time": "2022-06-30T02:39:34.436288",
          "status": "completed"
        },
        "tags": [],
        "id": "827a11eb"
      },
      "source": []
    }
  ],
  "metadata": {
    "kernelspec": {
      "display_name": "Python 3",
      "language": "python",
      "name": "python3"
    },
    "language_info": {
      "codemirror_mode": {
        "name": "ipython",
        "version": 3
      },
      "file_extension": ".py",
      "mimetype": "text/x-python",
      "name": "python",
      "nbconvert_exporter": "python",
      "pygments_lexer": "ipython3",
      "version": "3.7.12"
    },
    "papermill": {
      "default_parameters": {},
      "duration": 17.415361,
      "end_time": "2022-06-30T02:39:35.287256",
      "environment_variables": {},
      "exception": null,
      "input_path": "__notebook__.ipynb",
      "output_path": "__notebook__.ipynb",
      "parameters": {},
      "start_time": "2022-06-30T02:39:17.871895",
      "version": "2.3.4"
    },
    "colab": {
      "provenance": [],
      "collapsed_sections": [],
      "include_colab_link": true
    }
  },
  "nbformat": 4,
  "nbformat_minor": 5
}